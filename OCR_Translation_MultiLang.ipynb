{
  "nbformat": 4,
  "nbformat_minor": 0,
  "metadata": {
    "colab": {
      "provenance": [],
      "authorship_tag": "ABX9TyN/QyKHeioQbE7V5NUhxJGc"
    },
    "kernelspec": {
      "name": "python3",
      "display_name": "Python 3"
    },
    "language_info": {
      "name": "python"
    },
    "accelerator": "GPU",
    "gpuClass": "standard"
  },
  "cells": [
    {
      "cell_type": "code",
      "execution_count": 2,
      "metadata": {
        "colab": {
          "base_uri": "https://localhost:8080/"
        },
        "id": "rt73JI27Riwj",
        "outputId": "03893217-7f73-49eb-a3d7-04b7aae96ef9"
      },
      "outputs": [
        {
          "output_type": "stream",
          "name": "stdout",
          "text": [
            "Looking in indexes: https://pypi.org/simple, https://us-python.pkg.dev/colab-wheels/public/simple/\n",
            "Requirement already satisfied: easyocr in /usr/local/lib/python3.8/dist-packages (1.6.2)\n",
            "Requirement already satisfied: scikit-image in /usr/local/lib/python3.8/dist-packages (from easyocr) (0.18.3)\n",
            "Requirement already satisfied: opencv-python-headless<=4.5.4.60 in /usr/local/lib/python3.8/dist-packages (from easyocr) (4.5.4.60)\n",
            "Requirement already satisfied: PyYAML in /usr/local/lib/python3.8/dist-packages (from easyocr) (6.0)\n",
            "Requirement already satisfied: torchvision>=0.5 in /usr/local/lib/python3.8/dist-packages (from easyocr) (0.13.1+cu113)\n",
            "Requirement already satisfied: Pillow in /usr/local/lib/python3.8/dist-packages (from easyocr) (7.1.2)\n",
            "Requirement already satisfied: scipy in /usr/local/lib/python3.8/dist-packages (from easyocr) (1.7.3)\n",
            "Requirement already satisfied: Shapely in /usr/local/lib/python3.8/dist-packages (from easyocr) (1.8.5.post1)\n",
            "Requirement already satisfied: pyclipper in /usr/local/lib/python3.8/dist-packages (from easyocr) (1.3.0.post4)\n",
            "Requirement already satisfied: numpy in /usr/local/lib/python3.8/dist-packages (from easyocr) (1.21.6)\n",
            "Requirement already satisfied: torch in /usr/local/lib/python3.8/dist-packages (from easyocr) (1.12.1+cu113)\n",
            "Requirement already satisfied: ninja in /usr/local/lib/python3.8/dist-packages (from easyocr) (1.11.1)\n",
            "Requirement already satisfied: python-bidi in /usr/local/lib/python3.8/dist-packages (from easyocr) (0.4.2)\n",
            "Requirement already satisfied: typing-extensions in /usr/local/lib/python3.8/dist-packages (from torchvision>=0.5->easyocr) (4.1.1)\n",
            "Requirement already satisfied: requests in /usr/local/lib/python3.8/dist-packages (from torchvision>=0.5->easyocr) (2.23.0)\n",
            "Requirement already satisfied: six in /usr/local/lib/python3.8/dist-packages (from python-bidi->easyocr) (1.15.0)\n",
            "Requirement already satisfied: idna<3,>=2.5 in /usr/local/lib/python3.8/dist-packages (from requests->torchvision>=0.5->easyocr) (2.10)\n",
            "Requirement already satisfied: certifi>=2017.4.17 in /usr/local/lib/python3.8/dist-packages (from requests->torchvision>=0.5->easyocr) (2022.9.24)\n",
            "Requirement already satisfied: urllib3!=1.25.0,!=1.25.1,<1.26,>=1.21.1 in /usr/local/lib/python3.8/dist-packages (from requests->torchvision>=0.5->easyocr) (1.24.3)\n",
            "Requirement already satisfied: chardet<4,>=3.0.2 in /usr/local/lib/python3.8/dist-packages (from requests->torchvision>=0.5->easyocr) (3.0.4)\n",
            "Requirement already satisfied: networkx>=2.0 in /usr/local/lib/python3.8/dist-packages (from scikit-image->easyocr) (2.6.3)\n",
            "Requirement already satisfied: matplotlib!=3.0.0,>=2.0.0 in /usr/local/lib/python3.8/dist-packages (from scikit-image->easyocr) (3.2.2)\n",
            "Requirement already satisfied: PyWavelets>=1.1.1 in /usr/local/lib/python3.8/dist-packages (from scikit-image->easyocr) (1.3.0)\n",
            "Requirement already satisfied: imageio>=2.3.0 in /usr/local/lib/python3.8/dist-packages (from scikit-image->easyocr) (2.9.0)\n",
            "Requirement already satisfied: tifffile>=2019.7.26 in /usr/local/lib/python3.8/dist-packages (from scikit-image->easyocr) (2021.11.2)\n",
            "Requirement already satisfied: python-dateutil>=2.1 in /usr/local/lib/python3.8/dist-packages (from matplotlib!=3.0.0,>=2.0.0->scikit-image->easyocr) (2.8.2)\n",
            "Requirement already satisfied: kiwisolver>=1.0.1 in /usr/local/lib/python3.8/dist-packages (from matplotlib!=3.0.0,>=2.0.0->scikit-image->easyocr) (1.4.4)\n",
            "Requirement already satisfied: pyparsing!=2.0.4,!=2.1.2,!=2.1.6,>=2.0.1 in /usr/local/lib/python3.8/dist-packages (from matplotlib!=3.0.0,>=2.0.0->scikit-image->easyocr) (3.0.9)\n",
            "Requirement already satisfied: cycler>=0.10 in /usr/local/lib/python3.8/dist-packages (from matplotlib!=3.0.0,>=2.0.0->scikit-image->easyocr) (0.11.0)\n",
            "Looking in indexes: https://pypi.org/simple, https://us-python.pkg.dev/colab-wheels/public/simple/\n",
            "Collecting googletrans==4.0.0-rc1\n",
            "  Downloading googletrans-4.0.0rc1.tar.gz (20 kB)\n",
            "Collecting httpx==0.13.3\n",
            "  Downloading httpx-0.13.3-py3-none-any.whl (55 kB)\n",
            "\u001b[K     |████████████████████████████████| 55 kB 4.2 MB/s \n",
            "\u001b[?25hRequirement already satisfied: idna==2.* in /usr/local/lib/python3.8/dist-packages (from httpx==0.13.3->googletrans==4.0.0-rc1) (2.10)\n",
            "Collecting rfc3986<2,>=1.3\n",
            "  Downloading rfc3986-1.5.0-py2.py3-none-any.whl (31 kB)\n",
            "Collecting hstspreload\n",
            "  Downloading hstspreload-2022.12.1-py3-none-any.whl (1.5 MB)\n",
            "\u001b[K     |████████████████████████████████| 1.5 MB 52.6 MB/s \n",
            "\u001b[?25hRequirement already satisfied: certifi in /usr/local/lib/python3.8/dist-packages (from httpx==0.13.3->googletrans==4.0.0-rc1) (2022.9.24)\n",
            "Collecting sniffio\n",
            "  Downloading sniffio-1.3.0-py3-none-any.whl (10 kB)\n",
            "Requirement already satisfied: chardet==3.* in /usr/local/lib/python3.8/dist-packages (from httpx==0.13.3->googletrans==4.0.0-rc1) (3.0.4)\n",
            "Collecting httpcore==0.9.*\n",
            "  Downloading httpcore-0.9.1-py3-none-any.whl (42 kB)\n",
            "\u001b[K     |████████████████████████████████| 42 kB 1.5 MB/s \n",
            "\u001b[?25hCollecting h11<0.10,>=0.8\n",
            "  Downloading h11-0.9.0-py2.py3-none-any.whl (53 kB)\n",
            "\u001b[K     |████████████████████████████████| 53 kB 2.5 MB/s \n",
            "\u001b[?25hCollecting h2==3.*\n",
            "  Downloading h2-3.2.0-py2.py3-none-any.whl (65 kB)\n",
            "\u001b[K     |████████████████████████████████| 65 kB 4.6 MB/s \n",
            "\u001b[?25hCollecting hpack<4,>=3.0\n",
            "  Downloading hpack-3.0.0-py2.py3-none-any.whl (38 kB)\n",
            "Collecting hyperframe<6,>=5.2.0\n",
            "  Downloading hyperframe-5.2.0-py2.py3-none-any.whl (12 kB)\n",
            "Building wheels for collected packages: googletrans\n",
            "  Building wheel for googletrans (setup.py) ... \u001b[?25l\u001b[?25hdone\n",
            "  Created wheel for googletrans: filename=googletrans-4.0.0rc1-py3-none-any.whl size=17414 sha256=70a4db55cf93bd51fcab48a7ad281256c6106c09e096b98fbca8bbbb0ec1e979\n",
            "  Stored in directory: /root/.cache/pip/wheels/a9/25/af/715361fa79594524c89c75d293def652045f3fdce6ca398712\n",
            "Successfully built googletrans\n",
            "Installing collected packages: hyperframe, hpack, sniffio, h2, h11, rfc3986, httpcore, hstspreload, httpx, googletrans\n",
            "Successfully installed googletrans-4.0.0rc1 h11-0.9.0 h2-3.2.0 hpack-3.0.0 hstspreload-2022.12.1 httpcore-0.9.1 httpx-0.13.3 hyperframe-5.2.0 rfc3986-1.5.0 sniffio-1.3.0\n"
          ]
        }
      ],
      "source": [
        "!pip install easyocr\n",
        "!pip install googletrans==4.0.0-rc1"
      ]
    },
    {
      "cell_type": "code",
      "source": [
        "from google.colab import drive\n",
        "drive.mount('/content/gdrive')"
      ],
      "metadata": {
        "colab": {
          "base_uri": "https://localhost:8080/"
        },
        "id": "QMUdxr5GRqSZ",
        "outputId": "53d44bd8-52a0-4cf3-b71c-b9a356813e08"
      },
      "execution_count": 3,
      "outputs": [
        {
          "output_type": "stream",
          "name": "stdout",
          "text": [
            "Mounted at /content/gdrive\n"
          ]
        }
      ]
    },
    {
      "cell_type": "code",
      "source": [
        "IMG_PATH = '/content/gdrive/MyDrive/TextOCR/korean_text.jpg'"
      ],
      "metadata": {
        "id": "oVM8l-K7S6qF"
      },
      "execution_count": 14,
      "outputs": []
    },
    {
      "cell_type": "markdown",
      "source": [
        "# OCR section -> Choose the origin language"
      ],
      "metadata": {
        "id": "1rQt5zbLUbeW"
      }
    },
    {
      "cell_type": "code",
      "source": [
        "import easyocr"
      ],
      "metadata": {
        "id": "Muz6QsTtTH5n"
      },
      "execution_count": 15,
      "outputs": []
    },
    {
      "cell_type": "code",
      "source": [
        "# reader = easyocr.Reader(['ja']) # for japanese\n",
        "reader = easyocr.Reader(['ko']) # for korean\n",
        "result = reader.readtext(IMG_PATH, detail = 0) # for a simpler output\n",
        "result"
      ],
      "metadata": {
        "colab": {
          "base_uri": "https://localhost:8080/"
        },
        "id": "1mK468uQR26A",
        "outputId": "442f7a20-aeec-49f7-c93d-cfc3d9bcc609"
      },
      "execution_count": 16,
      "outputs": [
        {
          "output_type": "execute_result",
          "data": {
            "text/plain": [
              "['제',\n",
              " '제일   진한   친구가   지금',\n",
              " '미국에',\n",
              " '살고   있어서',\n",
              " '일년좀',\n",
              " '못',\n",
              " '만남습니다',\n",
              " '그 친구하고   자주   인터넷으로',\n",
              " '이야기하늘데 ',\n",
              " '직접',\n",
              " '만나고   싶습니다.',\n",
              " '그 친',\n",
              " '구는   크리스티나라고',\n",
              " '합니다.',\n",
              " '크리스티나하고 아무거나 할 수 있으니까 보',\n",
              " '고',\n",
              " '싶습니다 . 그녀클   한국에서',\n",
              " '만나시   같이   이야기하고   쇼핑하고  한국 음',\n",
              " '식올 먹고 유명하   관광지까지',\n",
              " '가고 싶습니다, 그 친구는   전에  일본에   저률',\n",
              " '만나리',\n",
              " '가서   저와   함께   즐거운',\n",
              " '보랫는데 ,  이번에는   한국의   문화하고   특별',\n",
              " '한   것올 소개하고  싶습니다. 유명하  사람울  만나는 것   보다   제일   친한 친',\n",
              " '구흘 만나면 아주 종젯습니다 .']"
            ]
          },
          "metadata": {},
          "execution_count": 16
        }
      ]
    },
    {
      "cell_type": "code",
      "source": [
        "words = []\n",
        "for i in range(len(result)):\t\n",
        "\t\tword=result[i]\n",
        "\t\twords.append(word)\n",
        "with open ('/content/gdrive/MyDrive/TextOCR/korean_text1.txt','w',encoding='utf-8')as myfile:\n",
        "\t\tmyfile.write(str(words))"
      ],
      "metadata": {
        "id": "omh1lxc9TGWg"
      },
      "execution_count": 17,
      "outputs": []
    },
    {
      "cell_type": "markdown",
      "source": [
        "# Google Translate API"
      ],
      "metadata": {
        "id": "4WIHySWrUgQQ"
      }
    },
    {
      "cell_type": "code",
      "source": [
        "from googletrans import Translator\n",
        "translator = Translator(service_urls=[\n",
        "      'translate.google.com'\n",
        "    ])"
      ],
      "metadata": {
        "id": "6P1uVRXcUkCB"
      },
      "execution_count": 9,
      "outputs": []
    },
    {
      "cell_type": "code",
      "source": [
        "text = []\n",
        "for i in words:\n",
        "  translations = translator.translate(i, dest='en') # translate to english\n",
        "  print(translations.origin, ' -> ', translations.text)\n",
        "  text.append(str(translations.text))"
      ],
      "metadata": {
        "colab": {
          "base_uri": "https://localhost:8080/"
        },
        "id": "YkfSD1zCUl4x",
        "outputId": "f180b190-7a5b-4a94-ab20-6482123917b9"
      },
      "execution_count": 25,
      "outputs": [
        {
          "output_type": "stream",
          "name": "stdout",
          "text": [
            "제  ->  My\n",
            "제일   진한   친구가   지금  ->  The strongest friend is now\n",
            "미국에  ->  In the United States\n",
            "살고   있어서  ->  I live\n",
            "일년좀  ->  A year\n",
            "못  ->  pond\n",
            "만남습니다  ->  Meet\n",
            "그 친구하고   자주   인터넷으로  ->  I often go to the Internet with that friend\n",
            "이야기하늘데   ->  Story in the sky\n",
            "직접  ->  directly\n",
            "만나고   싶습니다.  ->  I want to meet.\n",
            "그 친  ->  That friend\n",
            "구는   크리스티나라고  ->  Gu is Christian\n",
            "합니다.  ->  do.\n",
            "크리스티나하고 아무거나 할 수 있으니까 보  ->  I can do anything with Christina\n",
            "고  ->  go\n",
            "싶습니다 . 그녀클   한국에서  ->  I would like to .In Her Kle Korea\n",
            "만나시   같이   이야기하고   쇼핑하고  한국 음  ->  Talking together, shopping, and Korean um\n",
            "식올 먹고 유명하   관광지까지  ->  Even after eating, to tourist attractions\n",
            "가고 싶습니다, 그 친구는   전에  일본에   저률  ->  I want to go, that friend is a low rate before Japan\n",
            "만나리  ->  Manari\n",
            "가서   저와   함께   즐거운  ->  Go and enjoy with me\n",
            "보랫는데 ,  이번에는   한국의   문화하고   특별  ->  This time, this time, Korea's culture and special\n",
            "한   것올 소개하고  싶습니다. 유명하  사람울  만나는 것   보다   제일   친한 친  ->  I want to introduce what I did.The best friend than meeting a famous person\n",
            "구흘 만나면 아주 종젯습니다 .  ->  It's very jet when you meet the old days.\n"
          ]
        }
      ]
    },
    {
      "cell_type": "code",
      "source": [
        "with open ('/content/gdrive/MyDrive/TextOCR/translation_result_2.txt','w',encoding='utf-8')as myfile1:\n",
        "      myfile1.write(str(text))"
      ],
      "metadata": {
        "id": "e-ilgI9hUowh"
      },
      "execution_count": 24,
      "outputs": []
    },
    {
      "cell_type": "code",
      "source": [],
      "metadata": {
        "id": "l94gKcjpVM8-"
      },
      "execution_count": null,
      "outputs": []
    }
  ]
}