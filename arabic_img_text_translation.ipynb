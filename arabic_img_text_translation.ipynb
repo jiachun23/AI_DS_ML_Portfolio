{
  "nbformat": 4,
  "nbformat_minor": 0,
  "metadata": {
    "colab": {
      "provenance": []
    },
    "kernelspec": {
      "name": "python3",
      "display_name": "Python 3"
    },
    "language_info": {
      "name": "python"
    },
    "accelerator": "GPU",
    "gpuClass": "standard"
  },
  "cells": [
    {
      "cell_type": "markdown",
      "source": [
        "# Text Extraction (OCR)"
      ],
      "metadata": {
        "id": "DncE8igikB72"
      }
    },
    {
      "cell_type": "code",
      "execution_count": 1,
      "metadata": {
        "colab": {
          "base_uri": "https://localhost:8080/"
        },
        "id": "CyiBuSNYiD96",
        "outputId": "22444bc7-ff34-43a5-eeee-295c7939e16a"
      },
      "outputs": [
        {
          "output_type": "stream",
          "name": "stdout",
          "text": [
            "Looking in indexes: https://pypi.org/simple, https://us-python.pkg.dev/colab-wheels/public/simple/\n",
            "Collecting ArabicOcr\n",
            "  Downloading ArabicOcr-1.1.6-py3-none-any.whl (3.4 kB)\n",
            "Collecting easyocr\n",
            "  Downloading easyocr-1.6.2-py3-none-any.whl (2.9 MB)\n",
            "\u001b[K     |████████████████████████████████| 2.9 MB 40.6 MB/s \n",
            "\u001b[?25hCollecting ninja\n",
            "  Downloading ninja-1.11.1-py2.py3-none-manylinux_2_12_x86_64.manylinux2010_x86_64.whl (145 kB)\n",
            "\u001b[K     |████████████████████████████████| 145 kB 76.4 MB/s \n",
            "\u001b[?25hRequirement already satisfied: scikit-image in /usr/local/lib/python3.8/dist-packages (from easyocr->ArabicOcr) (0.18.3)\n",
            "Requirement already satisfied: torch in /usr/local/lib/python3.8/dist-packages (from easyocr->ArabicOcr) (1.12.1+cu113)\n",
            "Requirement already satisfied: torchvision>=0.5 in /usr/local/lib/python3.8/dist-packages (from easyocr->ArabicOcr) (0.13.1+cu113)\n",
            "Collecting python-bidi\n",
            "  Downloading python_bidi-0.4.2-py2.py3-none-any.whl (30 kB)\n",
            "Requirement already satisfied: PyYAML in /usr/local/lib/python3.8/dist-packages (from easyocr->ArabicOcr) (6.0)\n",
            "Requirement already satisfied: Shapely in /usr/local/lib/python3.8/dist-packages (from easyocr->ArabicOcr) (1.8.5.post1)\n",
            "Collecting opencv-python-headless<=4.5.4.60\n",
            "  Downloading opencv_python_headless-4.5.4.60-cp38-cp38-manylinux_2_17_x86_64.manylinux2014_x86_64.whl (47.6 MB)\n",
            "\u001b[K     |████████████████████████████████| 47.6 MB 1.3 MB/s \n",
            "\u001b[?25hCollecting pyclipper\n",
            "  Downloading pyclipper-1.3.0.post4-cp38-cp38-manylinux_2_5_x86_64.manylinux1_x86_64.whl (619 kB)\n",
            "\u001b[K     |████████████████████████████████| 619 kB 70.1 MB/s \n",
            "\u001b[?25hRequirement already satisfied: numpy in /usr/local/lib/python3.8/dist-packages (from easyocr->ArabicOcr) (1.21.6)\n",
            "Requirement already satisfied: scipy in /usr/local/lib/python3.8/dist-packages (from easyocr->ArabicOcr) (1.7.3)\n",
            "Requirement already satisfied: Pillow in /usr/local/lib/python3.8/dist-packages (from easyocr->ArabicOcr) (7.1.2)\n",
            "Requirement already satisfied: typing-extensions in /usr/local/lib/python3.8/dist-packages (from torchvision>=0.5->easyocr->ArabicOcr) (4.1.1)\n",
            "Requirement already satisfied: requests in /usr/local/lib/python3.8/dist-packages (from torchvision>=0.5->easyocr->ArabicOcr) (2.23.0)\n",
            "Requirement already satisfied: six in /usr/local/lib/python3.8/dist-packages (from python-bidi->easyocr->ArabicOcr) (1.15.0)\n",
            "Requirement already satisfied: urllib3!=1.25.0,!=1.25.1,<1.26,>=1.21.1 in /usr/local/lib/python3.8/dist-packages (from requests->torchvision>=0.5->easyocr->ArabicOcr) (1.24.3)\n",
            "Requirement already satisfied: certifi>=2017.4.17 in /usr/local/lib/python3.8/dist-packages (from requests->torchvision>=0.5->easyocr->ArabicOcr) (2022.9.24)\n",
            "Requirement already satisfied: idna<3,>=2.5 in /usr/local/lib/python3.8/dist-packages (from requests->torchvision>=0.5->easyocr->ArabicOcr) (2.10)\n",
            "Requirement already satisfied: chardet<4,>=3.0.2 in /usr/local/lib/python3.8/dist-packages (from requests->torchvision>=0.5->easyocr->ArabicOcr) (3.0.4)\n",
            "Requirement already satisfied: matplotlib!=3.0.0,>=2.0.0 in /usr/local/lib/python3.8/dist-packages (from scikit-image->easyocr->ArabicOcr) (3.2.2)\n",
            "Requirement already satisfied: networkx>=2.0 in /usr/local/lib/python3.8/dist-packages (from scikit-image->easyocr->ArabicOcr) (2.6.3)\n",
            "Requirement already satisfied: imageio>=2.3.0 in /usr/local/lib/python3.8/dist-packages (from scikit-image->easyocr->ArabicOcr) (2.9.0)\n",
            "Requirement already satisfied: PyWavelets>=1.1.1 in /usr/local/lib/python3.8/dist-packages (from scikit-image->easyocr->ArabicOcr) (1.3.0)\n",
            "Requirement already satisfied: tifffile>=2019.7.26 in /usr/local/lib/python3.8/dist-packages (from scikit-image->easyocr->ArabicOcr) (2021.11.2)\n",
            "Requirement already satisfied: pyparsing!=2.0.4,!=2.1.2,!=2.1.6,>=2.0.1 in /usr/local/lib/python3.8/dist-packages (from matplotlib!=3.0.0,>=2.0.0->scikit-image->easyocr->ArabicOcr) (3.0.9)\n",
            "Requirement already satisfied: python-dateutil>=2.1 in /usr/local/lib/python3.8/dist-packages (from matplotlib!=3.0.0,>=2.0.0->scikit-image->easyocr->ArabicOcr) (2.8.2)\n",
            "Requirement already satisfied: cycler>=0.10 in /usr/local/lib/python3.8/dist-packages (from matplotlib!=3.0.0,>=2.0.0->scikit-image->easyocr->ArabicOcr) (0.11.0)\n",
            "Requirement already satisfied: kiwisolver>=1.0.1 in /usr/local/lib/python3.8/dist-packages (from matplotlib!=3.0.0,>=2.0.0->scikit-image->easyocr->ArabicOcr) (1.4.4)\n",
            "Installing collected packages: python-bidi, pyclipper, opencv-python-headless, ninja, easyocr, ArabicOcr\n",
            "  Attempting uninstall: opencv-python-headless\n",
            "    Found existing installation: opencv-python-headless 4.6.0.66\n",
            "    Uninstalling opencv-python-headless-4.6.0.66:\n",
            "      Successfully uninstalled opencv-python-headless-4.6.0.66\n",
            "Successfully installed ArabicOcr-1.1.6 easyocr-1.6.2 ninja-1.11.1 opencv-python-headless-4.5.4.60 pyclipper-1.3.0.post4 python-bidi-0.4.2\n"
          ]
        }
      ],
      "source": [
        "!pip install ArabicOcr"
      ]
    },
    {
      "cell_type": "code",
      "source": [
        "!pip install pypdfium2"
      ],
      "metadata": {
        "colab": {
          "base_uri": "https://localhost:8080/"
        },
        "id": "2wxLqTlYi-MS",
        "outputId": "d8d0ef1e-d784-478d-d87b-ee2b8a014455"
      },
      "execution_count": null,
      "outputs": [
        {
          "output_type": "stream",
          "name": "stdout",
          "text": [
            "Looking in indexes: https://pypi.org/simple, https://us-python.pkg.dev/colab-wheels/public/simple/\n",
            "Collecting pypdfium2\n",
            "  Downloading pypdfium2-3.10.0-py3-none-manylinux_2_17_x86_64.manylinux2014_x86_64.whl (2.8 MB)\n",
            "\u001b[K     |████████████████████████████████| 2.8 MB 9.2 MB/s \n",
            "\u001b[?25hInstalling collected packages: pypdfium2\n",
            "Successfully installed pypdfium2-3.10.0\n"
          ]
        }
      ]
    },
    {
      "cell_type": "code",
      "source": [
        "from google.colab import drive\n",
        "drive.mount('/content/gdrive')"
      ],
      "metadata": {
        "colab": {
          "base_uri": "https://localhost:8080/"
        },
        "id": "6sYl2xU5iVCF",
        "outputId": "fcdf07b9-8c55-4357-c287-b2c7ee8fd214"
      },
      "execution_count": 2,
      "outputs": [
        {
          "output_type": "stream",
          "name": "stdout",
          "text": [
            "Mounted at /content/gdrive\n"
          ]
        }
      ]
    },
    {
      "cell_type": "code",
      "source": [
        "## this is used to convert each pdf page to a png file\n",
        "\n",
        "import pypdfium2 as pdfium\n",
        "\n",
        "pdf = pdfium.PdfDocument(\"/content/gdrive/MyDrive/arabicText/2d41a7304f1ade52d3dd2b81a723f8d1.pdf\")\n",
        "n_pages = len(pdf)\n",
        "for page_number in range(n_pages):\n",
        "    page = pdf.get_page(page_number)\n",
        "    pil_image = page.render_topil(\n",
        "        scale=1,\n",
        "        rotation=0,\n",
        "        crop=(0, 0, 0, 0),\n",
        "        greyscale=False,\n",
        "        optimise_mode=pdfium.OptimiseMode.NONE,\n",
        "    )\n",
        "    pil_image.save(f\"/content/gdrive/MyDrive/arabicText/imaged2_{page_number+1}.png\")"
      ],
      "metadata": {
        "id": "ErpaZaibi9ue"
      },
      "execution_count": null,
      "outputs": []
    },
    {
      "cell_type": "code",
      "source": [
        "from ArabicOcr import arabicocr\n",
        "image_path='/content/gdrive/MyDrive/arabicText/doc1/arab1.png'\n",
        "out_image='ig1.jpg'\n",
        "results=arabicocr.arabic_ocr(image_path,out_image)\n",
        "print(results)\n",
        "words=[]\n",
        "for i in range(len(results)):\t\n",
        "\t\tword=results[i][1]\n",
        "\t\twords.append(word)\n",
        "with open ('/content/gdrive/MyDrive/arabicText/doc1/arabic_text1.txt','w',encoding='utf-8')as myfile:\n",
        "\t\tmyfile.write(str(words))\n"
      ],
      "metadata": {
        "colab": {
          "base_uri": "https://localhost:8080/"
        },
        "id": "mioXU8pziaWT",
        "outputId": "469ba6c0-e5b2-434e-92e0-c2503067e70e"
      },
      "execution_count": 3,
      "outputs": [
        {
          "output_type": "stream",
          "name": "stderr",
          "text": [
            "WARNING:easyocr.easyocr:Using CPU. Note: This module is much faster with a GPU.\n",
            "WARNING:easyocr.easyocr:Downloading detection model, please wait. This may take several minutes depending upon your network connection.\n"
          ]
        },
        {
          "output_type": "stream",
          "name": "stdout",
          "text": [
            "[INFO] OCR'ing input image...\n",
            "Progress: |██████████████████████████████████████████████████| 100.0% Complete"
          ]
        },
        {
          "output_type": "stream",
          "name": "stderr",
          "text": [
            "WARNING:easyocr.easyocr:Downloading recognition model, please wait. This may take several minutes depending upon your network connection.\n"
          ]
        },
        {
          "output_type": "stream",
          "name": "stdout",
          "text": [
            "Progress: |██████████████████████████████████████████████████| 100.0% Complete[INFO] 0.3294: منصوربن زايد يلتقي رئيس تركمانستان\n",
            "[INFO] 0.7514: منصوربن زايد خلال لقائه رئيس تركمانستان\n",
            "[INFO] 0.4199: برئيس جمهورية تركمانستان والوفد المرافق\n",
            "[INFO] 0.3464: بوظبي - وام :\n",
            "[INFO] 0.9630: القيادة الرشيدة لدولة\n",
            "[INFO] 0.4437: مؤك دا\n",
            "[INFO] 0.9961: بين البلدين\n",
            "[INFO] 0.9003: الإمارات لتعزيزا\n",
            "[INFO] 0.7738: _بن زايد آل نهيان\n",
            "[INFO] 0.9616: سمو الشيخ\n",
            "[INFO] 0.4259: التق\n",
            "[INFO] 0.8089: لتركمانستان قيادة وشعبا المزيد من\n",
            "[INFO] 0.9302: آلوزراء وزير ديوان\n",
            "[INFO] 0.8238: نائب رنيس\n",
            "[INFO] 0.9857: خلال\n",
            "[INFO] 0.7677: والازدهار وبحث سموه وفخامة الضيف\n",
            "[INFO] 0.7939: فخامة سردار بردي محمدوف رئيس\n",
            "[INFO] 0.5632: اللقساء سبل تطوير العلاقسات المتميزة بين\n",
            "[INFO] 0.9847: في مقر\n",
            "[INFO] 0.4550: تركمانستان الصديقة يسوم\n",
            "[INFO] 0.4799: دولسة الإمارات وجمهوريسة تركمانستان لما\n",
            "[INFO] 0.4875: الإمسارات في أبوظبيء بحضور\n",
            "[INFO] 0.8774: قامته\n",
            "[INFO] 0.8023: فيه مصلحة الشعبين الصديقينء بالإضافة\n",
            "[INFO] 0.9490: الشيخ ذياب بن محمدبن زايد آل نهيان\n",
            "[INFO] 0.4170: إلى عدد من المواضيع والقضايا ذات الاهتمام\n",
            "[INFO] 0.8209: لإمارة أبوظبي\n",
            "[INFO] 0.9222: المجلس\n",
            "[INFO] 0.9987: المشترك\n",
            "[INFO] 0.9358: نهيان\n",
            "[INFO] 0.6463: بن زايد\n",
            "[INFO] 0.9918: سمو\n",
            "[INFO] 0.4206: سنعلئعاون\n",
            "[INFO] 0.7477: ومتمنباً\n",
            "[INFO] 0.8660: منصور\n",
            "[INFO] 0.4827: الرناسة\n",
            "[INFO] 0.8616: النطور\n",
            "[INFO] 0.8126: مجلس\n",
            "[INFO] 0.9533: جمبورية\n",
            "[INFO] 0.8384: آلاثنين.\n",
            "[INFO] 0.9706: بقصر\n",
            "[INFO] 0.9995: التنفيذي\n",
            "[INFO] 0.4411: عذو\n",
            "[INFO] 0.7353: الشبخ\n",
            "[INFO] 0.9661: منصور\n",
            "[[[[98, 7], [649, 7], [649, 80], [98, 80]], 'منصوربن زايد يلتقي رئيس تركمانستان', 0.329381962189401], [[[152, 502], [508, 502], [508, 531], [152, 531]], 'منصوربن زايد خلال لقائه رئيس تركمانستان', 0.7513620120037247], [[[8, 538], [320, 538], [320, 564], [8, 564]], 'برئيس جمهورية تركمانستان والوفد المرافق', 0.41993359490014237], [[[540, 534], [648, 534], [648, 562], [540, 562]], 'بوظبي - وام :', 0.34639706953818017], [[[8, 558], [190, 558], [190, 582], [8, 582]], 'القيادة الرشيدة لدولة', 0.9629612425695457], [[[229, 561], [283, 561], [283, 581], [229, 581]], 'مؤك دا', 0.44371795650256324], [[[65, 580], [154, 580], [154, 605], [65, 605]], 'بين البلدين', 0.9961186093548638], [[[206, 576], [322, 576], [322, 605], [206, 605]], 'الإمارات لتعزيزا', 0.9002933380816592], [[[338, 576], [458, 576], [458, 602], [338, 602]], '_بن زايد آل نهيان', 0.7738276217030218], [[[506, 576], [594, 576], [594, 605], [506, 605]], 'سمو الشيخ', 0.9616263499776029], [[[613, 581], [647, 581], [647, 597], [613, 597]], 'التق', 0.42593967808961175], [[[58, 600], [320, 600], [320, 624], [58, 624]], 'لتركمانستان قيادة وشعبا المزيد من', 0.808882172000601], [[[394, 596], [524, 596], [524, 625], [394, 625]], 'آلوزراء وزير ديوان', 0.9301684195967287], [[[571, 601], [649, 601], [649, 621], [571, 621]], 'نائب رنيس', 0.8237815249970607], [[[9, 621], [45, 621], [45, 641], [9, 641]], 'خلال', 0.9857285441479144], [[[50, 620], [322, 620], [322, 644], [50, 644]], 'والازدهار وبحث سموه وفخامة الضيف', 0.7676870469541117], [[[408, 620], [649, 620], [649, 646], [408, 646]], 'فخامة سردار بردي محمدوف رئيس', 0.793857211473352], [[[8, 638], [322, 638], [322, 667], [8, 667]], 'اللقساء سبل تطوير العلاقسات المتميزة بين', 0.5632327902571825], [[[338, 640], [394, 640], [394, 666], [338, 666]], 'في مقر', 0.9846633390607727], [[[450, 638], [649, 638], [649, 666], [450, 666]], 'تركمانستان الصديقة يسوم', 0.45496097024809856], [[[6, 658], [320, 658], [320, 687], [6, 687]], 'دولسة الإمارات وجمهوريسة تركمانستان لما', 0.47987117279012836], [[[338, 659], [558, 659], [558, 686], [338, 686]], 'الإمسارات في أبوظبيء بحضور', 0.4874800372807882], [[[607, 663], [647, 663], [647, 679], [607, 679]], 'قامته', 0.8774401686182275], [[[7, 679], [320, 679], [320, 708], [7, 708]], 'فيه مصلحة الشعبين الصديقينء بالإضافة', 0.802278160581945], [[[338, 680], [616, 680], [616, 706], [338, 706]], 'الشيخ ذياب بن محمدبن زايد آل نهيان', 0.948998711619841], [[[4, 698], [320, 698], [320, 730], [4, 730]], 'إلى عدد من المواضيع والقضايا ذات الاهتمام', 0.41698249392927933], [[[381, 699], [489, 699], [489, 728], [381, 728]], 'لإمارة أبوظبي', 0.8209138754882181], [[[553, 705], [611, 705], [611, 725], [553, 725]], 'المجلس', 0.9221578640588624], [[[263, 727], [321, 727], [321, 743], [263, 743]], 'المشترك', 0.9987473456756117], [[[338, 722], [386, 722], [386, 746], [338, 746]], 'نهيان', 0.9357861923688945], [[[402, 722], [458, 722], [458, 746], [402, 746]], 'بن زايد', 0.6462522782943141], [[[559, 729], [593, 729], [593, 745], [559, 745]], 'سمو', 0.9917876720428467], [[[147.34478822279527, 567.3585340901495], [228.37855912491457, 556.8586597095612], [231.65521177720473, 596.6414659098505], [150.62144087508543, 606.1413402904388]], 'سنعلئعاون', 0.420594924172439], [[[9.129977814151388, 569.1289267866996], [70.93615084917658, 581.3843554671081], [65.87002218584861, 607.8710732133004], [3.063849150823419, 595.6156445328919]], 'ومتمنباً', 0.7476712260966625], [[[452.43826238111393, 585.7506099048911], [507.80304611493654, 578.1345378648305], [510.56173761888607, 596.2493900951089], [454.19695388506346, 603.8654621351695]], 'منصور', 0.8659871265634597], [[[339.2572186472918, 594.1430466182295], [400.94931957912166, 601.5526151785623], [397.7427813527082, 622.8569533817705], [336.05068042087834, 616.4473848214377]], 'الرناسة', 0.4827371820598317], [[[3.654654412007375, 604.5201198532081], [56.718203087817514, 596.9763896498108], [59.345345587992625, 618.4798801467919], [6.281796912182488, 627.0236103501892]], 'النطور', 0.8615598365100283], [[[518.5134117075056, 604.6620705367551], [570.8260174212317, 599.1841198756199], [571.4865882924944, 616.3379294632449], [520.1739825787683, 621.8158801243801]], 'مجلس', 0.81257859757638], [[[341.30537128835283, 618.1245024785526], [406.9719617709162, 627.6662833926142], [402.69462871164717, 648.8754975214474], [338.0280382290838, 639.3337166073858]], 'جمبورية', 0.9532882706437877], [[[391.2562854188427, 639.5587995863798], [451.63178672575555, 633.5599657538319], [452.7437145811573, 658.4412004136202], [393.36821327424445, 665.4400342461681]], 'آلاثنين.', 0.8383903368411934], [[[556.5857864376269, 665.5857864376269], [601.7707958056759, 661.0703322020202], [604.4142135623731, 678.4142135623731], [558.2292041943241, 683.9296677979798]], 'بقصر', 0.9706324338912964], [[[482.98198161801105, 703.7801797798122], [552.6658619711646, 693.6240712406892], [555.0180183819889, 719.2198202201878], [485.3341380288354, 728.3759287593108]], 'التنفيذي', 0.9995028688794575], [[[608.2111456180002, 710.1055728090001], [641.4427746420619, 700.6149363436206], [645.7888543819998, 716.8944271909999], [613.5572253579381, 727.3850636563794]], 'عذو', 0.44112375378608704], [[[508.719631200671, 726.4635574408053], [556.7971350319729, 723.12232940299], [558.2803687993289, 741.5364425591947], [510.20286496802714, 745.87767059701]], 'الشبخ', 0.7352878221229595], [[[454.51341170750567, 729.6620705367551], [508.86472261790027, 725.2769442910183], [509.48658829249433, 741.3379294632449], [456.13527738209973, 745.7230557089817]], 'منصور', 0.9660894600084992]]\n"
          ]
        }
      ]
    },
    {
      "cell_type": "code",
      "source": [],
      "metadata": {
        "id": "lx5uHY_vm9lY"
      },
      "execution_count": null,
      "outputs": []
    },
    {
      "cell_type": "markdown",
      "source": [
        "# Arabic -> English Translation"
      ],
      "metadata": {
        "id": "hPwOaDb_m9wf"
      }
    },
    {
      "cell_type": "code",
      "source": [
        "!pip install googletrans==4.0.0-rc1"
      ],
      "metadata": {
        "colab": {
          "base_uri": "https://localhost:8080/"
        },
        "id": "I_K7Zs-jnAg1",
        "outputId": "10ea43ca-393c-4a12-d3d0-809f96f68450"
      },
      "execution_count": 4,
      "outputs": [
        {
          "output_type": "stream",
          "name": "stdout",
          "text": [
            "Looking in indexes: https://pypi.org/simple, https://us-python.pkg.dev/colab-wheels/public/simple/\n",
            "Collecting googletrans==4.0.0-rc1\n",
            "  Downloading googletrans-4.0.0rc1.tar.gz (20 kB)\n",
            "Collecting httpx==0.13.3\n",
            "  Downloading httpx-0.13.3-py3-none-any.whl (55 kB)\n",
            "\u001b[K     |████████████████████████████████| 55 kB 4.0 MB/s \n",
            "\u001b[?25hCollecting hstspreload\n",
            "  Downloading hstspreload-2022.12.1-py3-none-any.whl (1.5 MB)\n",
            "\u001b[K     |████████████████████████████████| 1.5 MB 68.2 MB/s \n",
            "\u001b[?25hRequirement already satisfied: certifi in /usr/local/lib/python3.8/dist-packages (from httpx==0.13.3->googletrans==4.0.0-rc1) (2022.9.24)\n",
            "Requirement already satisfied: idna==2.* in /usr/local/lib/python3.8/dist-packages (from httpx==0.13.3->googletrans==4.0.0-rc1) (2.10)\n",
            "Collecting httpcore==0.9.*\n",
            "  Downloading httpcore-0.9.1-py3-none-any.whl (42 kB)\n",
            "\u001b[K     |████████████████████████████████| 42 kB 1.5 MB/s \n",
            "\u001b[?25hCollecting sniffio\n",
            "  Downloading sniffio-1.3.0-py3-none-any.whl (10 kB)\n",
            "Requirement already satisfied: chardet==3.* in /usr/local/lib/python3.8/dist-packages (from httpx==0.13.3->googletrans==4.0.0-rc1) (3.0.4)\n",
            "Collecting rfc3986<2,>=1.3\n",
            "  Downloading rfc3986-1.5.0-py2.py3-none-any.whl (31 kB)\n",
            "Collecting h2==3.*\n",
            "  Downloading h2-3.2.0-py2.py3-none-any.whl (65 kB)\n",
            "\u001b[K     |████████████████████████████████| 65 kB 4.5 MB/s \n",
            "\u001b[?25hCollecting h11<0.10,>=0.8\n",
            "  Downloading h11-0.9.0-py2.py3-none-any.whl (53 kB)\n",
            "\u001b[K     |████████████████████████████████| 53 kB 2.7 MB/s \n",
            "\u001b[?25hCollecting hyperframe<6,>=5.2.0\n",
            "  Downloading hyperframe-5.2.0-py2.py3-none-any.whl (12 kB)\n",
            "Collecting hpack<4,>=3.0\n",
            "  Downloading hpack-3.0.0-py2.py3-none-any.whl (38 kB)\n",
            "Building wheels for collected packages: googletrans\n",
            "  Building wheel for googletrans (setup.py) ... \u001b[?25l\u001b[?25hdone\n",
            "  Created wheel for googletrans: filename=googletrans-4.0.0rc1-py3-none-any.whl size=17414 sha256=8242d3b4f9136a271d5d3d15b7a99998a7028c150e5fe521db677a384ec0cce2\n",
            "  Stored in directory: /root/.cache/pip/wheels/a9/25/af/715361fa79594524c89c75d293def652045f3fdce6ca398712\n",
            "Successfully built googletrans\n",
            "Installing collected packages: hyperframe, hpack, sniffio, h2, h11, rfc3986, httpcore, hstspreload, httpx, googletrans\n",
            "Successfully installed googletrans-4.0.0rc1 h11-0.9.0 h2-3.2.0 hpack-3.0.0 hstspreload-2022.12.1 httpcore-0.9.1 httpx-0.13.3 hyperframe-5.2.0 rfc3986-1.5.0 sniffio-1.3.0\n"
          ]
        }
      ]
    },
    {
      "cell_type": "code",
      "source": [
        "from googletrans import Translator\n",
        "translator = Translator(service_urls=[\n",
        "      'translate.google.com'\n",
        "    ])"
      ],
      "metadata": {
        "id": "g1V6Q9BxtXzI"
      },
      "execution_count": 5,
      "outputs": []
    },
    {
      "cell_type": "code",
      "source": [
        "text = []\n",
        "for i in words:\n",
        "  translations = translator.translate(i, dest='en')\n",
        "  print(translations.origin, ' -> ', translations.text)\n",
        "  text.append(str(translations.text))"
      ],
      "metadata": {
        "colab": {
          "base_uri": "https://localhost:8080/"
        },
        "id": "h17ZILa5nFvJ",
        "outputId": "2d786bf6-f9b8-4434-c880-780fe91b9a45"
      },
      "execution_count": 6,
      "outputs": [
        {
          "output_type": "stream",
          "name": "stdout",
          "text": [
            "منصوربن زايد يلتقي رئيس تركمانستان  ->  Mansour bin Zayed meets the President of Turkmenistan\n",
            "منصوربن زايد خلال لقائه رئيس تركمانستان  ->  Mansour bin Zayed during his meeting with the President of Turkmenistan\n",
            "برئيس جمهورية تركمانستان والوفد المرافق  ->  The President of the Republic of Turkmenistan and the accompanying delegation\n",
            "بوظبي - وام :  ->  Bozabi - Loan:\n",
            "القيادة الرشيدة لدولة  ->  The wise leadership of a country\n",
            "مؤك دا  ->  The child\n",
            "بين البلدين  ->  Between the two countries\n",
            "الإمارات لتعزيزا  ->  Emirates to enhance\n",
            "_بن زايد آل نهيان  ->  Bin Zayed Al Nahyan\n",
            "سمو الشيخ  ->  His Highness Sheikh\n",
            "التق  ->  Meet\n",
            "لتركمانستان قيادة وشعبا المزيد من  ->  Lot Turkmenistan is the leadership and people of more\n",
            "آلوزراء وزير ديوان  ->  Ministers Minister of Diwan\n",
            "نائب رنيس  ->  Rennis deputy\n",
            "خلال  ->  During\n",
            "والازدهار وبحث سموه وفخامة الضيف  ->  And prosperity and the research of His Highness and the luxury of the guest\n",
            "فخامة سردار بردي محمدوف رئيس  ->  His Excellency Sardar Bardi Muhammadov, President\n",
            "اللقساء سبل تطوير العلاقسات المتميزة بين  ->  Conclusion are ways to develop distinct relationships between\n",
            "في مقر  ->  In the headquarters\n",
            "تركمانستان الصديقة يسوم  ->  The friendly Turkmenistan sings\n",
            "دولسة الإمارات وجمهوريسة تركمانستان لما  ->  The Emirates Dolsa and the Republic of Turkmenistan\n",
            "الإمسارات في أبوظبيء بحضور  ->  Al -Issarat in Abu Dhabi in the presence\n",
            "قامته  ->  His stature\n",
            "فيه مصلحة الشعبين الصديقينء بالإضافة  ->  In it the interest of the two friendly peoples in addition\n",
            "الشيخ ذياب بن محمدبن زايد آل نهيان  ->  Sheikh Dhiab bin Mohammed bin Zayed Al Nahyan\n",
            "إلى عدد من المواضيع والقضايا ذات الاهتمام  ->  To a number of topics and issues of attention\n",
            "لإمارة أبوظبي  ->  For the Emirate of Abu Dhabi\n",
            "المجلس  ->  the Council\n",
            "المشترك  ->  Subscriber\n",
            "نهيان  ->  Nahyan\n",
            "بن زايد  ->  Bin Zayed\n",
            "سمو  ->  Highness\n",
            "سنعلئعاون  ->  We will meet a cooperation\n",
            "ومتمنباً  ->  And a pleasure\n",
            "منصور  ->  victorious\n",
            "الرناسة  ->  Rhetoric\n",
            "النطور  ->  Developer\n",
            "مجلس  ->  board\n",
            "جمبورية  ->  Jumper\n",
            "آلاثنين.  ->  Monday.\n",
            "بقصر  ->  Palace\n",
            "التنفيذي  ->  Executive\n",
            "عذو  ->  Shove\n",
            "الشبخ  ->  Scream\n",
            "منصور  ->  victorious\n"
          ]
        }
      ]
    },
    {
      "cell_type": "code",
      "source": [
        "with open ('/content/gdrive/MyDrive/arabicText/doc1/arabic_english_1.txt','w',encoding='utf-8')as myfile1:\n",
        "      myfile1.write(str(text))"
      ],
      "metadata": {
        "id": "olkgngvFrkmG"
      },
      "execution_count": 7,
      "outputs": []
    },
    {
      "cell_type": "code",
      "source": [],
      "metadata": {
        "id": "2c7j7WSTE5ev"
      },
      "execution_count": null,
      "outputs": []
    },
    {
      "cell_type": "code",
      "source": [],
      "metadata": {
        "id": "wgOMxKXoxE1s"
      },
      "execution_count": null,
      "outputs": []
    }
  ]
}